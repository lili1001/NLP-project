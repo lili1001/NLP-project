{
 "cells": [
  {
   "cell_type": "markdown",
   "metadata": {},
   "source": [
    "import library "
   ]
  },
  {
   "cell_type": "code",
   "execution_count": 2,
   "metadata": {},
   "outputs": [],
   "source": [
    "import os\n",
    "import json\n",
    "import pdfplumber\n",
    "import nltk\n",
    "from nltk.tokenize import sent_tokenize, word_tokenize"
   ]
  },
  {
   "cell_type": "markdown",
   "metadata": {},
   "source": [
    "directory path\n"
   ]
  },
  {
   "cell_type": "code",
   "execution_count": 4,
   "metadata": {},
   "outputs": [],
   "source": [
    "pdfDircPath=r'C:\\Users\\admin\\OneDrive\\Documents\\supervised project\\Corpus\\CorpusDirc'\n",
    "strDircPath=r'C:\\Users\\admin\\OneDrive\\Documents\\supervised project\\processedFiles\\strDirc'\n",
    "sentDircPath=r'C:\\Users\\admin\\OneDrive\\Documents\\supervised project\\processedFiles\\sentDirc'\n",
    "wordDircPath=r'C:\\Users\\admin\\OneDrive\\Documents\\supervised project\\processedFiles\\wordDirc'\n",
    "processedDircPath=r'C:\\Users\\admin\\OneDrive\\Documents\\supervised project\\processedFiles'"
   ]
  },
  {
   "cell_type": "markdown",
   "metadata": {},
   "source": [
    "extract text from each PDF file from corpusDirc,and generate the text string into strDirc"
   ]
  },
  {
   "cell_type": "code",
   "execution_count": 5,
   "metadata": {
    "scrolled": true
   },
   "outputs": [
    {
     "name": "stdout",
     "output_type": "stream",
     "text": [
      "C:\\Users\\admin\\OneDrive\\Documents\\supervised project\\Corpus\\CorpusDirc\\Akter and Fosso Wamba.pdf\n",
      "C:\\Users\\admin\\OneDrive\\Documents\\supervised project\\Corpus\\CorpusDirc\\Akter, Fosso Wamba, Gunasekaran, Dubey and Childe.pdf\n",
      "C:\\Users\\admin\\OneDrive\\Documents\\supervised project\\Corpus\\CorpusDirc\\Aryal, Liao, Nattuthurai, Li.pdf\n",
      "C:\\Users\\admin\\OneDrive\\Documents\\supervised project\\Corpus\\CorpusDirc\\Baesens, Bapna, Marsden, Vanthienen, Zhao.pdf\n",
      "C:\\Users\\admin\\OneDrive\\Documents\\supervised project\\Corpus\\CorpusDirc\\Balan.pdf\n",
      "C:\\Users\\admin\\OneDrive\\Documents\\supervised project\\Corpus\\CorpusDirc\\Bharati and Chaudhury.pdf\n",
      "C:\\Users\\admin\\OneDrive\\Documents\\supervised project\\Corpus\\CorpusDirc\\Bibby & Dehe.pdf\n",
      "C:\\Users\\admin\\OneDrive\\Documents\\supervised project\\Corpus\\CorpusDirc\\Brintup, Pak, Ratiney, Pearce, Wichmann, Woddall and McFarlane.pdf\n",
      "C:\\Users\\admin\\OneDrive\\Documents\\supervised project\\Corpus\\CorpusDirc\\Calatayud, Mangan and Christoper.pdf\n",
      "C:\\Users\\admin\\OneDrive\\Documents\\supervised project\\Corpus\\CorpusDirc\\Chavez et al..pdf\n",
      "C:\\Users\\admin\\OneDrive\\Documents\\supervised project\\Corpus\\CorpusDirc\\Chen, Preston and Swink.pdf\n",
      "C:\\Users\\admin\\OneDrive\\Documents\\supervised project\\Corpus\\CorpusDirc\\Chen-Fu et al..pdf\n",
      "C:\\Users\\admin\\OneDrive\\Documents\\supervised project\\Corpus\\CorpusDirc\\Cheng-Kui.pdf\n",
      "C:\\Users\\admin\\OneDrive\\Documents\\supervised project\\Corpus\\CorpusDirc\\Choi, Wallace and Wang.pdf\n",
      "C:\\Users\\admin\\OneDrive\\Documents\\supervised project\\Corpus\\CorpusDirc\\Constantiou and Kallinikos.pdf\n",
      "C:\\Users\\admin\\OneDrive\\Documents\\supervised project\\Corpus\\CorpusDirc\\Corbett.pdf\n",
      "C:\\Users\\admin\\OneDrive\\Documents\\supervised project\\Corpus\\CorpusDirc\\Daradkeh.pdf\n",
      "C:\\Users\\admin\\OneDrive\\Documents\\supervised project\\Corpus\\CorpusDirc\\Davenport.pdf\n",
      "C:\\Users\\admin\\OneDrive\\Documents\\supervised project\\Corpus\\CorpusDirc\\Delen and Demirkan.pdf\n",
      "C:\\Users\\admin\\OneDrive\\Documents\\supervised project\\Corpus\\CorpusDirc\\Dutta and Bose.pdf\n",
      "C:\\Users\\admin\\OneDrive\\Documents\\supervised project\\Corpus\\CorpusDirc\\Fan, Liu, Zhu and Pardalos.pdf\n",
      "C:\\Users\\admin\\OneDrive\\Documents\\supervised project\\Corpus\\CorpusDirc\\Fang et al.pdf\n",
      "C:\\Users\\admin\\OneDrive\\Documents\\supervised project\\Corpus\\CorpusDirc\\Fosso Wamba, Akter, Edwards, Chopin, Gnanzou.pdf\n",
      "C:\\Users\\admin\\OneDrive\\Documents\\supervised project\\Corpus\\CorpusDirc\\Griffin.pdf\n",
      "C:\\Users\\admin\\OneDrive\\Documents\\supervised project\\Corpus\\CorpusDirc\\Griffith, Boehmke, Bradley, Hazen and Johnson.pdf\n",
      "C:\\Users\\admin\\OneDrive\\Documents\\supervised project\\Corpus\\CorpusDirc\\Guha and Kumar.pdf\n",
      "C:\\Users\\admin\\OneDrive\\Documents\\supervised project\\Corpus\\CorpusDirc\\Gunasekaran, Yusuf, Adeleye, Papadopoulos.pdf\n",
      "C:\\Users\\admin\\OneDrive\\Documents\\supervised project\\Corpus\\CorpusDirc\\Halper.pdf\n",
      "C:\\Users\\admin\\OneDrive\\Documents\\supervised project\\Corpus\\CorpusDirc\\Hasija, Max Shen, Chung-Piaw Teo.pdf\n",
      "C:\\Users\\admin\\OneDrive\\Documents\\supervised project\\Corpus\\CorpusDirc\\Hopp, Li and Wang.pdf\n",
      "C:\\Users\\admin\\OneDrive\\Documents\\supervised project\\Corpus\\CorpusDirc\\Horita.pdf\n",
      "C:\\Users\\admin\\OneDrive\\Documents\\supervised project\\Corpus\\CorpusDirc\\Hossain and Quaddus.pdf\n",
      "C:\\Users\\admin\\OneDrive\\Documents\\supervised project\\Corpus\\CorpusDirc\\Hou, Li, Chong, Yannopoulou and Liu.pdf\n",
      "C:\\Users\\admin\\OneDrive\\Documents\\supervised project\\Corpus\\CorpusDirc\\Ilie-Zudor, Ekart, Kemeny, Buckingham and Welch, Monostori.pdf\n",
      "C:\\Users\\admin\\OneDrive\\Documents\\supervised project\\Corpus\\CorpusDirc\\ilk et al.pdf\n",
      "C:\\Users\\admin\\OneDrive\\Documents\\supervised project\\Corpus\\CorpusDirc\\Jain, Shao and Shin.pdf\n",
      "C:\\Users\\admin\\OneDrive\\Documents\\supervised project\\Corpus\\CorpusDirc\\Kache and Seuring.pdf\n",
      "C:\\Users\\admin\\OneDrive\\Documents\\supervised project\\Corpus\\CorpusDirc\\Kamble and Gunasekaran.pdf\n",
      "C:\\Users\\admin\\OneDrive\\Documents\\supervised project\\Corpus\\CorpusDirc\\Karunagaran, Mathew and Lehner.pdf\n",
      "C:\\Users\\admin\\OneDrive\\Documents\\supervised project\\Corpus\\CorpusDirc\\Kocheturov, Pardalos and Karakitsiou.pdf\n",
      "C:\\Users\\admin\\OneDrive\\Documents\\supervised project\\Corpus\\CorpusDirc\\Koh et al.pdf\n",
      "C:\\Users\\admin\\OneDrive\\Documents\\supervised project\\Corpus\\CorpusDirc\\Kumar et al..pdf\n",
      "C:\\Users\\admin\\OneDrive\\Documents\\supervised project\\Corpus\\CorpusDirc\\Kumar, Shankar, Choudhary and Thakur.pdf\n",
      "C:\\Users\\admin\\OneDrive\\Documents\\supervised project\\Corpus\\CorpusDirc\\Kusiak.pdf\n",
      "C:\\Users\\admin\\OneDrive\\Documents\\supervised project\\Corpus\\CorpusDirc\\Lambda and Singh.pdf\n",
      "C:\\Users\\admin\\OneDrive\\Documents\\supervised project\\Corpus\\CorpusDirc\\Li and Wang.pdf\n",
      "C:\\Users\\admin\\OneDrive\\Documents\\supervised project\\Corpus\\CorpusDirc\\Mehmood, Meriton, Graham, Hennely and Kumar.pdf\n",
      "C:\\Users\\admin\\OneDrive\\Documents\\supervised project\\Corpus\\CorpusDirc\\Meire, Ballings and Van den Poel.pdf\n",
      "C:\\Users\\admin\\OneDrive\\Documents\\supervised project\\Corpus\\CorpusDirc\\Mishra, Gunasekaran, Papadopoulos and Childe.pdf\n",
      "C:\\Users\\admin\\OneDrive\\Documents\\supervised project\\Corpus\\CorpusDirc\\Mishra, Singh, Rana and Dwivedi.pdf\n",
      "C:\\Users\\admin\\OneDrive\\Documents\\supervised project\\Corpus\\CorpusDirc\\Nikolopoulos, Babai, and Bozos.pdf\n",
      "C:\\Users\\admin\\OneDrive\\Documents\\supervised project\\Corpus\\CorpusDirc\\Nysveen and Pedersen.pdf\n",
      "C:\\Users\\admin\\OneDrive\\Documents\\supervised project\\Corpus\\CorpusDirc\\Olsen and Tomlin.pdf\n",
      "C:\\Users\\admin\\OneDrive\\Documents\\supervised project\\Corpus\\CorpusDirc\\Pan, Ding, Wu, Yang and Yang.pdf\n",
      "C:\\Users\\admin\\OneDrive\\Documents\\supervised project\\Corpus\\CorpusDirc\\Papadopoulos, Gunasekaran, Dubey, Wamba.pdf\n",
      "C:\\Users\\admin\\OneDrive\\Documents\\supervised project\\Corpus\\CorpusDirc\\Ramanathan, Philpott, Duan and Cao.pdf\n",
      "C:\\Users\\admin\\OneDrive\\Documents\\supervised project\\Corpus\\CorpusDirc\\Ren, Chan and Siqin.pdf\n",
      "C:\\Users\\admin\\OneDrive\\Documents\\supervised project\\Corpus\\CorpusDirc\\Roden, Nucciarelli and Graham.pdf\n",
      "C:\\Users\\admin\\OneDrive\\Documents\\supervised project\\Corpus\\CorpusDirc\\Singhal, Feng, Ganeshan, Sanders and Shanthikumar.pdf\n",
      "C:\\Users\\admin\\OneDrive\\Documents\\supervised project\\Corpus\\CorpusDirc\\Tachizawa, Alvarez-Gil and Montes-Sancho.pdf\n",
      "C:\\Users\\admin\\OneDrive\\Documents\\supervised project\\Corpus\\CorpusDirc\\Talor.pdf\n",
      "cant extract PDF from the path\n",
      "C:\\Users\\admin\\OneDrive\\Documents\\supervised project\\Corpus\\CorpusDirc\\Wang, Gunasekaran, Ngai, Papadopoulos.pdf\n",
      "C:\\Users\\admin\\OneDrive\\Documents\\supervised project\\Corpus\\CorpusDirc\\Wiener, Saunders, Marabelli.pdf\n",
      "C:\\Users\\admin\\OneDrive\\Documents\\supervised project\\Corpus\\CorpusDirc\\Woerner, Wixom.pdf\n",
      "C:\\Users\\admin\\OneDrive\\Documents\\supervised project\\Corpus\\CorpusDirc\\Zaki, Theodoulidis, Shapira, Neely and Tepel.pdf\n"
     ]
    }
   ],
   "source": [
    "for count,file in enumerate(os.scandir(pdfDircPath),start=1):\n",
    "    print(file.path)\n",
    "    with pdfplumber.open(file.path) as pdf:\n",
    "        fileName=str(count)+'.txt'\n",
    "        try:\n",
    "            with open(os.path.join(strDircPath,fileName),'w',encoding=\"utf-8\") as strFile:\n",
    "                content=''\n",
    "                for page in pdf.pages:\n",
    "                    content=content+page.extract_text()\n",
    "                    strFile.write(content)\n",
    "        except:\n",
    "            print('cant extract PDF from the path')\n",
    "        "
   ]
  },
  {
   "cell_type": "markdown",
   "metadata": {},
   "source": [
    "manully extract text from C:\\Users\\admin\\OneDrive\\Documents\\supervised project\\Corpus\\CorpusDirc\\Talor.pdf"
   ]
  },
  {
   "cell_type": "code",
   "execution_count": 7,
   "metadata": {},
   "outputs": [],
   "source": [
    "targetPath=r'C:\\Users\\admin\\OneDrive\\Documents\\supervised project\\Corpus\\CorpusDirc\\Talor.pdf'\n",
    "with open(os.path.join(strDircPath,'61.txt'),'w',encoding=\"utf-8\") as strFile:\n",
    "    for page in pdf.pages:\n",
    "        content=content+page.extract_text()\n",
    "        strFile.write(content)"
   ]
  },
  {
   "cell_type": "code",
   "execution_count": null,
   "metadata": {},
   "outputs": [],
   "source": [
    "rawDataList=[]\n",
    "for fileName in os.listdir(strDircPath):\n",
    "    file = open(os.path.join(strDircPath,fileName), \"r\", encoding='utf-8' )\n",
    "    rawDataList.append(file.read())\n",
    "\n",
    "with open(os.path.join(processedDircPath,'rawDataList.txt'),'w') as rawDataFile:\n",
    "    rawData=json.dumps(rawDataList)\n",
    "    rawDataFile.write(rawData)"
   ]
  }
 ],
 "metadata": {
  "kernelspec": {
   "display_name": "Python 3",
   "language": "python",
   "name": "python3"
  },
  "language_info": {
   "codemirror_mode": {
    "name": "ipython",
    "version": 3
   },
   "file_extension": ".py",
   "mimetype": "text/x-python",
   "name": "python",
   "nbconvert_exporter": "python",
   "pygments_lexer": "ipython3",
   "version": "3.8.3"
  }
 },
 "nbformat": 4,
 "nbformat_minor": 4
}
