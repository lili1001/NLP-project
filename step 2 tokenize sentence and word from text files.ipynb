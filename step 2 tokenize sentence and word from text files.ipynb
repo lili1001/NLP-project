{
 "cells": [
  {
   "cell_type": "code",
   "execution_count": 2,
   "metadata": {},
   "outputs": [],
   "source": [
    "import os\n",
    "import json\n",
    "import nltk\n",
    "from nltk.tokenize import sent_tokenize, word_tokenize"
   ]
  },
  {
   "cell_type": "code",
   "execution_count": 3,
   "metadata": {},
   "outputs": [],
   "source": [
    "pdfDircPath=r'C:\\Users\\admin\\OneDrive\\Documents\\supervised project\\Corpus\\CorpusDirc'\n",
    "strDircPath=r'C:\\Users\\admin\\OneDrive\\Documents\\supervised project\\processedFiles\\strDirc'\n",
    "sentDircPath=r'C:\\Users\\admin\\OneDrive\\Documents\\supervised project\\processedFiles\\sentDirc'\n",
    "wordDircPath=r'C:\\Users\\admin\\OneDrive\\Documents\\supervised project\\processedFiles\\wordDirc'"
   ]
  },
  {
   "cell_type": "code",
   "execution_count": 7,
   "metadata": {},
   "outputs": [],
   "source": [
    "for fileName in os.listdir(strDircPath):\n",
    "    file = open(os.path.join(strDircPath,fileName), \"r\", encoding='utf-8' )\n",
    "# sentence tokenize and convert to json format\n",
    "    sentTokens=sent_tokenize(file.read())\n",
    "    #creat a json file in sentDirc for each string file from strDirc\n",
    "    with open(os.path.join(sentDircPath,fileName),'w') as sentenceFile:\n",
    "        #write the dump json into the json file\n",
    "        sent = json.dumps(sentTokens)\n",
    "        sentenceFile.write(sent)"
   ]
  },
  {
   "cell_type": "code",
   "execution_count": 8,
   "metadata": {},
   "outputs": [],
   "source": [
    "for fileName in os.listdir(strDircPath):\n",
    "    file = open(os.path.join(strDircPath,fileName), \"r\", encoding='utf-8')\n",
    "# word tokenize and convert to json format\n",
    "    wordTokens=word_tokenize(file.read())\n",
    "    #creat a json file in wordDirc for each string file from strDirc\n",
    "    with open(os.path.join(wordDircPath,fileName),'w') as wordFile:\n",
    "        #write the dump json into the json file\n",
    "        words = json.dumps(wordTokens)\n",
    "        wordFile.write(words)"
   ]
  },
  {
   "cell_type": "code",
   "execution_count": null,
   "metadata": {},
   "outputs": [],
   "source": []
  }
 ],
 "metadata": {
  "kernelspec": {
   "display_name": "Python 3",
   "language": "python",
   "name": "python3"
  },
  "language_info": {
   "codemirror_mode": {
    "name": "ipython",
    "version": 3
   },
   "file_extension": ".py",
   "mimetype": "text/x-python",
   "name": "python",
   "nbconvert_exporter": "python",
   "pygments_lexer": "ipython3",
   "version": "3.8.3"
  }
 },
 "nbformat": 4,
 "nbformat_minor": 4
}
