{
 "cells": [
  {
   "cell_type": "code",
   "execution_count": 2,
   "metadata": {},
   "outputs": [],
   "source": [
    "import os\n",
    "import json\n",
    "import pandas as pd\n",
    "\n",
    "from sklearn.feature_extraction.text import TfidfVectorizer, CountVectorizer\n",
    "from sklearn.decomposition import NMF, LatentDirichletAllocation"
   ]
  },
  {
   "cell_type": "code",
   "execution_count": 24,
   "metadata": {},
   "outputs": [],
   "source": [
    "processedDircPath=r'C:\\Users\\admin\\OneDrive\\Documents\\supervised project\\processedFiles'\n",
    "\n",
    "rawDataFile=open(os.path.join(processedDircPath,'rawDataList.txt'), \"r\" )\n",
    "rawDataList=json.loads(rawDataFile.read())\n",
    "\n",
    "cleanedDataFile=open(os.path.join(processedDircPath,'cleanedDataList.txt'), \"r\" )\n",
    "cleanedDataList=json.loads(cleanedDataFile.read())\n",
    "\n",
    "dataList=rawDataList"
   ]
  },
  {
   "cell_type": "code",
   "execution_count": 8,
   "metadata": {},
   "outputs": [],
   "source": [
    "n_samples = 2000\n",
    "n_features = 50\n",
    "n_components = 4\n",
    "n_top_words = 15"
   ]
  },
  {
   "cell_type": "code",
   "execution_count": 9,
   "metadata": {},
   "outputs": [],
   "source": [
    "def print_top_words(model, feature_names, n_top_words):\n",
    "    for topic_idx, topic in enumerate(model.components_):\n",
    "        message = f'Topic #{topic_idx}: '\n",
    "        message += \" \".join([feature_names[i]\n",
    "                             for i in topic.argsort()[:-n_top_words - 1:-1]])\n",
    "        print(message)\n",
    "    print()"
   ]
  },
  {
   "cell_type": "code",
   "execution_count": 19,
   "metadata": {},
   "outputs": [],
   "source": [
    "# Use tf-idf features for NMF(Probabilistic Latent Semantic Indexing).\n",
    "tfidf_vectorizer = TfidfVectorizer(max_df=0.95, min_df=2,\n",
    "                                   max_features=n_features,\n",
    "                                   stop_words='english')\n",
    "tfidfMatrix = tfidf_vectorizer.fit_transform(dataList)"
   ]
  },
  {
   "cell_type": "code",
   "execution_count": 21,
   "metadata": {},
   "outputs": [],
   "source": [
    "# Use tf (raw term count) features for LDA.\n",
    "tf_vectorizer = CountVectorizer(max_df=0.95, min_df=2,\n",
    "                                max_features=n_features,\n",
    "                                stop_words='english')\n",
    "tfMatrix = tf_vectorizer.fit_transform(dataList)"
   ]
  },
  {
   "cell_type": "code",
   "execution_count": 25,
   "metadata": {},
   "outputs": [
    {
     "name": "stdout",
     "output_type": "stream",
     "text": [
      "Topic #0: al et 2017 model technology 2016 study 2015 service 2014 big decision process 2011 use\n",
      "Topic #1: big supply business chain analytics management 2012 decision operation capability 2014 use 2013 process customer\n",
      "Topic #2: cid time 72 production manufacturing 87 76 81 68 operation process journal article 2016 al\n",
      "Topic #3: manufacturing product chain production supply demand industry operation customer time consumer article management level approach\n",
      "\n"
     ]
    }
   ],
   "source": [
    "# Fit the NMF model ( Probabilistic Latent Semantic Indexing) with tfidf\n",
    "nmf = NMF(n_components=n_components, random_state=1,\n",
    "          beta_loss='kullback-leibler', solver='mu', max_iter=1000, alpha=.1,\n",
    "          l1_ratio=.5).fit(tfidfMatrix)\n",
    "\n",
    "tfidf_feature_names = tfidf_vectorizer.get_feature_names()\n",
    "print_top_words(nmf, tfidf_feature_names, n_top_words)"
   ]
  },
  {
   "cell_type": "code",
   "execution_count": 26,
   "metadata": {},
   "outputs": [
    {
     "name": "stdout",
     "output_type": "stream",
     "text": [
      "Topic #0: manufacturing product customer production big al chain model et consumer time demand supply operation service\n",
      "Topic #1: analytics technology business adoption use big supply management chain study model factor capability process decision\n",
      "Topic #2: cid 72 87 68 76 81 time process 2017 production journal 2014 operation model approach\n",
      "Topic #3: al et big 2017 2016 2015 2012 2014 review study 2013 2011 decision value analysis\n",
      "\n"
     ]
    }
   ],
   "source": [
    "# Fit the LDA model with tf\n",
    "lda = LatentDirichletAllocation(n_components=n_components )\n",
    "lda.fit(tfMatrix)\n",
    "\n",
    "tf_feature_names = tf_vectorizer.get_feature_names()\n",
    "lda.components_\n",
    "# tf_feature_names\n",
    "print_top_words(lda, tf_feature_names, n_top_words)"
   ]
  }
 ],
 "metadata": {
  "kernelspec": {
   "display_name": "Python 3",
   "language": "python",
   "name": "python3"
  },
  "language_info": {
   "codemirror_mode": {
    "name": "ipython",
    "version": 3
   },
   "file_extension": ".py",
   "mimetype": "text/x-python",
   "name": "python",
   "nbconvert_exporter": "python",
   "pygments_lexer": "ipython3",
   "version": "3.8.3"
  }
 },
 "nbformat": 4,
 "nbformat_minor": 4
}
