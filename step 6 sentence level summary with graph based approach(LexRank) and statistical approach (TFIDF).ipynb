{
 "cells": [
  {
   "cell_type": "code",
   "execution_count": null,
   "metadata": {},
   "outputs": [],
   "source": [
    "import os\n",
    "import json\n",
    "import sumy\n",
    "\n",
    "# utils\n",
    "from sumy.utils import get_stop_words\n",
    "from sumy.nlp.stemmers import Stemmer\n",
    "from sumy.nlp.tokenizers import Tokenizer as sumytoken\n",
    "from sumy.parsers.plaintext import PlaintextParser\n",
    "\n",
    "# summerizer\n",
    "from gensim.summarization import summarize as genSummerizer\n",
    "from sumy.summarizers.lex_rank import LexRankSummarizer\n",
    "# from sumy.summarizers.lsa import LsaSummarizer (to be determined)\n",
    "from sumy.summarizers.luhn import LuhnSummarizer"
   ]
  },
  {
   "cell_type": "code",
   "execution_count": 52,
   "metadata": {},
   "outputs": [],
   "source": [
    "# define constant n: number of sentence generated from each doc \n",
    "SENTENCES_COUNT=10"
   ]
  },
  {
   "cell_type": "markdown",
   "metadata": {},
   "source": [
    "define function"
   ]
  },
  {
   "cell_type": "code",
   "execution_count": null,
   "metadata": {},
   "outputs": [],
   "source": [
    "# TFIDF approach\n",
    "def gensim_summarizer(text):\n",
    "    return (GenSummarizer(text))\n",
    "\n",
    "#lexrank approach\n",
    "def lexrank_summarizer(text):\n",
    "    stemmer = Stemmer('english')\n",
    "    parser = PlaintextParser.from_string((text), sumytoken('english'))\n",
    "    summarizer_LexRank = LexRankSummarizer(stemmer)\n",
    "    summarizer_LexRank.stop_words = get_stop_words('english')\n",
    "    sentences = []\n",
    "    for sentence in summarizer_LexRank(parser.document,SENTENCES_COUNT):\n",
    "        a = sentence\n",
    "        sentences.append(str(a))\n",
    "    return \" \".join(sentences)\n",
    "\n",
    "#TFIDF approach\n",
    "def luhn_summarizer(text):\n",
    "    temmer = Stemmer('english')\n",
    "    parser = PlaintextParser.from_string(text, sumytoken('english'))\n",
    "    summarizer_luhn = LuhnSummarizer(stemmer)\n",
    "    summarizer_luhn.stop_words = get_stop_words('english')\n",
    "    sentences = []\n",
    "    for sentence in summarizer_luhn(parser.document,SENTENCES_COUNT):\n",
    "        a = sentence\n",
    "        sentences.append(str(a))\n",
    "    return \" \".join(sentences)\n",
    "\n",
    "def summerize(summarizer):\n",
    "    for index, doc in enumerate(rawDataList):\n",
    "        print(f'summerize doc {index+1}: ')\n",
    "        print(summarizer(doc))\n",
    "    "
   ]
  },
  {
   "cell_type": "markdown",
   "metadata": {},
   "source": [
    "import and preprocess"
   ]
  },
  {
   "cell_type": "code",
   "execution_count": 47,
   "metadata": {},
   "outputs": [],
   "source": [
    "#import raw data\n",
    "rawDataList=[]\n",
    "strDircPath=r'C:\\Users\\admin\\OneDrive\\Documents\\supervised project\\processedFiles\\strDirc'\n",
    "processedDircPath=r'C:\\Users\\admin\\OneDrive\\Documents\\supervised project\\processedFiles'\n",
    "with open(os.path.join(processedDircPath,'rawDataList.txt'),'r') as rawDataFile:\n",
    "    rawDataList=json.loads(rawDataFile.read())"
   ]
  },
  {
   "cell_type": "markdown",
   "metadata": {},
   "source": [
    "present"
   ]
  },
  {
   "cell_type": "code",
   "execution_count": 50,
   "metadata": {},
   "outputs": [
    {
     "data": {
      "text/plain": [
       "'Big data analytics in E-commerce: A systematic review and agenda for futureresearch.ElectronicMarkets,1–22. Big data analytics in E-commerce: A systematic review and agenda for futureresearch.ElectronicMarkets,1–22. Big data analytics in E-commerce: A systematic review and agenda for futureresearch.ElectronicMarkets,1–22. Big data analytics in E-commerce: A systematic review and agenda for futureresearch.ElectronicMarkets,1–22. Big data analytics in E-commerce: A systematic review and agenda for futureresearch.ElectronicMarkets,1–22.'"
      ]
     },
     "execution_count": 50,
     "metadata": {},
     "output_type": "execute_result"
    }
   ],
   "source": [
    "lexrank_summarizer(rawDataList[0])\n"
   ]
  },
  {
   "cell_type": "code",
   "execution_count": null,
   "metadata": {},
   "outputs": [
    {
     "name": "stdout",
     "output_type": "stream",
     "text": [
      "summerize doc 1: \n",
      "Big data and disaster management: a systematic review and agenda for future research Shahriar Akter1 Samuel Fosso Wamba2 · Publishedonline:21August2017 ©SpringerScience+BusinessMedia,LLC2017 Abstract The era of big data and analytics is opening up new possibilities for disaster management (DM). Big data analytics in E-commerce: A systematic review and agenda for futureresearch.ElectronicMarkets,1–22. Big data analytics in E-commerce: A systematic review and agenda for futureresearch.ElectronicMarkets,1–22. Big data analytics in E-commerce: A systematic review and agenda for futureresearch.ElectronicMarkets,1–22. Big data analytics in E-commerce: A systematic review and agenda for futureresearch.ElectronicMarkets,1–22. Technological challenges in emergency response. Big data analytics in E-commerce: A systematic review and agenda for futureresearch.ElectronicMarkets,1–22. Technological challenges in emergency response. Big data analytics in E-commerce: A systematic review and agenda for futureresearch.ElectronicMarkets,1–22. Technological challenges in emergency response.\n",
      "summerize doc 2: \n",
      "Data-driven supply chains manufacturing capability. Data-driven supply chains manufacturing capability. Data-driven supply chains manufacturing capability. Data-driven supply chains manufacturing capability. Data-driven supply chains manufacturing capability. Data-driven supply chains manufacturing capability. Data-driven supply chains manufacturing capability. Data-driven supply chains manufacturing capability. Data-driven supply chains manufacturing capability. Data-driven supply chains manufacturing capability.\n",
      "summerize doc 3: \n"
     ]
    }
   ],
   "source": [
    "summerize(lexrank_summarizer)"
   ]
  }
 ],
 "metadata": {
  "kernelspec": {
   "display_name": "Python 3",
   "language": "python",
   "name": "python3"
  },
  "language_info": {
   "codemirror_mode": {
    "name": "ipython",
    "version": 3
   },
   "file_extension": ".py",
   "mimetype": "text/x-python",
   "name": "python",
   "nbconvert_exporter": "python",
   "pygments_lexer": "ipython3",
   "version": "3.8.3"
  }
 },
 "nbformat": 4,
 "nbformat_minor": 4
}
